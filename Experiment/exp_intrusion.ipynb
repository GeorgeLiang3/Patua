{
 "cells": [
  {
   "cell_type": "code",
   "execution_count": 1,
   "metadata": {},
   "outputs": [
    {
     "name": "stdout",
     "output_type": "stream",
     "text": [
      "PYVISTA_IMPORT True\n"
     ]
    }
   ],
   "source": [
    "# %%\n",
    "import sys\n",
    "sys.path.append('/Volumes/GoogleDrive/My Drive/GemPhy/GP_old')\n",
    "\n",
    "import numpy as np\n",
    "import gempy as gp\n",
    "from gempy.core.tensor.modeltf_var import ModelTF\n",
    "from gempy.assets.geophysics import *\n",
    "import tensorflow as tf\n",
    "import matplotlib.pyplot as plt\n",
    "import pandas as pd"
   ]
  },
  {
   "cell_type": "code",
   "execution_count": 4,
   "metadata": {},
   "outputs": [
    {
     "name": "stdout",
     "output_type": "stream",
     "text": [
      "Active grids: ['regular']\n"
     ]
    },
    {
     "name": "stderr",
     "output_type": "stream",
     "text": [
      "/Volumes/GoogleDrive/My Drive/GemPhy/GP_old/gempy/core/tensor/modeltf_var.py:572: VisibleDeprecationWarning: Creating an ndarray from ragged nested sequences (which is a list-or-tuple of lists-or-tuples-or ndarrays with different lengths or shapes) is deprecated. If you meant to do this, you must specify 'dtype=object' when creating the ndarray.\n",
      "  [final_block[l0: l1].numpy(), Z_x[:, l0: l1].numpy().astype(float)])\n"
     ]
    },
    {
     "data": {
      "text/plain": [
       "<gempy.plot.vista.GemPyToVista at 0x7fc487e66590>"
      ]
     },
     "execution_count": 4,
     "metadata": {},
     "output_type": "execute_result"
    }
   ],
   "source": [
    "# %%\n",
    "path_to_data = \"/Users/zhouji/Documents/github/PatuaModel/Data/unconformity/\"\n",
    "\n",
    "geo_data = gp.create_data( extent=[0, 1000, 0, 1000, 0, 1000], resolution=[50, 50, 50],\n",
    "                          path_o=path_to_data + \"model_intrusion_reduce_orientations.csv\",\n",
    "                          path_i=path_to_data + \"model_intrusion_reduce_surface_points.csv\")\n",
    "\n",
    "# %%\n",
    "gp.map_series_to_surfaces(geo_data, {\"Strat_Series1\": ('rock3'),\n",
    "                                    \"Strat_Series2\": ('rock2', 'rock1'),\n",
    "                                    \"Basement_Series\": ('basement')})\n",
    "\n",
    "\n",
    "mapping_object = {'Strat_Series1':   np.array([1,1,0.01]),\n",
    "                'Strat_Series2':   np.array([1,1,1]),\n",
    "                'Basement_Series': np.array([1,1,1])}\n",
    "gp.assign_global_anisotropy(geo_data,mapping_object)\n",
    "\n",
    "# %%\n",
    "model = ModelTF(geo_data)\n",
    "model.activate_regular_grid()\n",
    "model.create_tensorflow_graph(gradient = False)\n",
    "\n",
    "# %%\n",
    "model.compute_model()\n",
    "\n",
    "# %%\n",
    "gp._plot.plot_3d(model)"
   ]
  },
  {
   "cell_type": "code",
   "execution_count": 6,
   "metadata": {},
   "outputs": [
    {
     "data": {
      "text/plain": [
       "<tf.Tensor: shape=(3, 3), dtype=float64, numpy=\n",
       "array([[1., 1., 1.],\n",
       "       [1., 1., 1.],\n",
       "       [1., 1., 1.]])>"
      ]
     },
     "execution_count": 6,
     "metadata": {},
     "output_type": "execute_result"
    }
   ],
   "source": [
    "model.anisotropy_vector"
   ]
  },
  {
   "cell_type": "code",
   "execution_count": 11,
   "metadata": {},
   "outputs": [
    {
     "data": {
      "text/plain": [
       "array([[1. , 1. , 0.1],\n",
       "       [1. , 1. , 1. ],\n",
       "       [1. , 1. , 1. ]])"
      ]
     },
     "execution_count": 11,
     "metadata": {},
     "output_type": "execute_result"
    }
   ],
   "source": [
    "np.stack(model.geo_data.series.df['anisotropy'].values, axis = 0)"
   ]
  },
  {
   "cell_type": "code",
   "execution_count": 5,
   "metadata": {},
   "outputs": [
    {
     "data": {
      "text/html": [
       "<div>\n",
       "<style scoped>\n",
       "    .dataframe tbody tr th:only-of-type {\n",
       "        vertical-align: middle;\n",
       "    }\n",
       "\n",
       "    .dataframe tbody tr th {\n",
       "        vertical-align: top;\n",
       "    }\n",
       "\n",
       "    .dataframe thead th {\n",
       "        text-align: right;\n",
       "    }\n",
       "</style>\n",
       "<table border=\"1\" class=\"dataframe\">\n",
       "  <thead>\n",
       "    <tr style=\"text-align: right;\">\n",
       "      <th></th>\n",
       "      <th>order_series</th>\n",
       "      <th>BottomRelation</th>\n",
       "      <th>isActive</th>\n",
       "      <th>anisotropy</th>\n",
       "    </tr>\n",
       "  </thead>\n",
       "  <tbody>\n",
       "    <tr>\n",
       "      <th>Strat_Series1</th>\n",
       "      <td>1</td>\n",
       "      <td>Erosion</td>\n",
       "      <td>True</td>\n",
       "      <td>[1.0, 1.0, 0.1]</td>\n",
       "    </tr>\n",
       "    <tr>\n",
       "      <th>Strat_Series2</th>\n",
       "      <td>2</td>\n",
       "      <td>Erosion</td>\n",
       "      <td>True</td>\n",
       "      <td>[1, 1, 1]</td>\n",
       "    </tr>\n",
       "    <tr>\n",
       "      <th>Basement_Series</th>\n",
       "      <td>3</td>\n",
       "      <td>Erosion</td>\n",
       "      <td>False</td>\n",
       "      <td>[1, 1, 1]</td>\n",
       "    </tr>\n",
       "  </tbody>\n",
       "</table>\n",
       "</div>"
      ],
      "text/plain": [
       "                 order_series BottomRelation  isActive       anisotropy\n",
       "Strat_Series1               1        Erosion      True  [1.0, 1.0, 0.1]\n",
       "Strat_Series2               2        Erosion      True        [1, 1, 1]\n",
       "Basement_Series             3        Erosion     False        [1, 1, 1]"
      ]
     },
     "execution_count": 5,
     "metadata": {},
     "output_type": "execute_result"
    }
   ],
   "source": [
    "\n",
    "mapping_object = {'Strat_Series1':   np.array([1,1,0.1]),\n",
    "                'Strat_Series2':   np.array([1,1,1]),\n",
    "                'Basement_Series': np.array([1,1,1])}\n",
    "geo_data.assign_global_anisotropy(mapping_object)\n",
    "\n",
    "geo_data.series.df"
   ]
  },
  {
   "cell_type": "code",
   "execution_count": 120,
   "metadata": {},
   "outputs": [],
   "source": [
    "\n",
    "mapping_object = {'Strat_Series1':   [1,1,0.1],\n",
    "                'Strat_Series2':   [1,1,1],\n",
    "                'Basement_Series': [1,1,1]}\n",
    "# anisotropy_df = pd.DataFrame(index=mapping_object.keys(), columns=['anisotropy'])\n",
    "# for index in anisotropy_df.index:\n",
    "#     anisotropy_df.at[index, 'anisotropy'] = mapping_object[index]\n",
    "\n",
    "# pd.merge(geo_data.series.df, anisotropy_df, left_index=True, right_index=True)\n",
    "\n",
    "anisotropy_df = pd.DataFrame(index=mapping_object.keys(), columns=['anisotropy'])\n",
    "for index in anisotropy_df.index:\n",
    "    anisotropy_df.at[index, 'anisotropy'] = mapping_object[index]\n",
    "\n",
    "geo_data.series.df = pd.merge(geo_data.series.df, anisotropy_df, left_index=True, right_index=True)\n"
   ]
  },
  {
   "cell_type": "code",
   "execution_count": 125,
   "metadata": {},
   "outputs": [
    {
     "data": {
      "text/html": [
       "<div>\n",
       "<style scoped>\n",
       "    .dataframe tbody tr th:only-of-type {\n",
       "        vertical-align: middle;\n",
       "    }\n",
       "\n",
       "    .dataframe tbody tr th {\n",
       "        vertical-align: top;\n",
       "    }\n",
       "\n",
       "    .dataframe thead th {\n",
       "        text-align: right;\n",
       "    }\n",
       "</style>\n",
       "<table border=\"1\" class=\"dataframe\">\n",
       "  <thead>\n",
       "    <tr style=\"text-align: right;\">\n",
       "      <th></th>\n",
       "      <th>order_series</th>\n",
       "      <th>BottomRelation</th>\n",
       "      <th>isActive</th>\n",
       "      <th>anisotropy</th>\n",
       "    </tr>\n",
       "  </thead>\n",
       "  <tbody>\n",
       "    <tr>\n",
       "      <th>Strat_Series1</th>\n",
       "      <td>1</td>\n",
       "      <td>Erosion</td>\n",
       "      <td>True</td>\n",
       "      <td>[1, 1, 0.1]</td>\n",
       "    </tr>\n",
       "    <tr>\n",
       "      <th>Strat_Series2</th>\n",
       "      <td>2</td>\n",
       "      <td>Erosion</td>\n",
       "      <td>True</td>\n",
       "      <td>[1, 1, 1]</td>\n",
       "    </tr>\n",
       "    <tr>\n",
       "      <th>Basement_Series</th>\n",
       "      <td>3</td>\n",
       "      <td>Erosion</td>\n",
       "      <td>False</td>\n",
       "      <td>[1, 1, 1]</td>\n",
       "    </tr>\n",
       "  </tbody>\n",
       "</table>\n",
       "</div>"
      ],
      "text/plain": [
       "                 order_series BottomRelation  isActive   anisotropy\n",
       "Strat_Series1               1        Erosion      True  [1, 1, 0.1]\n",
       "Strat_Series2               2        Erosion      True    [1, 1, 1]\n",
       "Basement_Series             3        Erosion     False    [1, 1, 1]"
      ]
     },
     "execution_count": 125,
     "metadata": {},
     "output_type": "execute_result"
    }
   ],
   "source": [
    "anisotropy_df = pd.DataFrame(index=mapping_object.keys(), columns=['anisotropy'])\n",
    "for index in anisotropy_df.index:\n",
    "    anisotropy_df.at[index, 'anisotropy'] = mapping_object[index]\n",
    "\n",
    "pd.merge(geo_data.series.df, anisotropy_df, left_index=True, right_index=True)"
   ]
  },
  {
   "cell_type": "code",
   "execution_count": 98,
   "metadata": {},
   "outputs": [
    {
     "data": {
      "text/plain": [
       "Strat_Series1      None\n",
       "Strat_Series2      None\n",
       "Basement_Series    None\n",
       "Name: anisotropy, dtype: object"
      ]
     },
     "execution_count": 98,
     "metadata": {},
     "output_type": "execute_result"
    }
   ],
   "source": [
    "geo_data.series.df['anisotropy']"
   ]
  },
  {
   "cell_type": "code",
   "execution_count": null,
   "metadata": {},
   "outputs": [],
   "source": []
  }
 ],
 "metadata": {
  "kernelspec": {
   "display_name": "gempy_new",
   "language": "python",
   "name": "python3"
  },
  "language_info": {
   "codemirror_mode": {
    "name": "ipython",
    "version": 3
   },
   "file_extension": ".py",
   "mimetype": "text/x-python",
   "name": "python",
   "nbconvert_exporter": "python",
   "pygments_lexer": "ipython3",
   "version": "3.7.12"
  },
  "orig_nbformat": 4
 },
 "nbformat": 4,
 "nbformat_minor": 2
}
